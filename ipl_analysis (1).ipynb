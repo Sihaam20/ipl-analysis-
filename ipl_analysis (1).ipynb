{
 "cells": [
  {
   "cell_type": "markdown",
   "metadata": {
    "id": "nUaS7gFUeG5_"
   },
   "source": [
    "Importing the necessary libraries"
   ]
  },
  {
   "cell_type": "code",
   "execution_count": 3,
   "metadata": {
    "id": "zyXSIM4zmzoJ"
   },
   "outputs": [],
   "source": [
    "import pandas as pd\n",
    "import numpy as np\n",
    "import matplotlib.pyplot as plt\n",
    "import seaborn as sns\n",
    "from sklearn import preprocessing\n",
    "%matplotlib inline"
   ]
  },
  {
   "cell_type": "markdown",
   "metadata": {
    "id": "mJ9-Pf_JeObg"
   },
   "source": [
    "Loading the dataset"
   ]
  },
  {
   "cell_type": "code",
   "execution_count": 4,
   "metadata": {
    "id": "6V_MMftIm8zw"
   },
   "outputs": [],
   "source": [
    "match=pd.read_csv(r\"D:\\dataset\\matches.csv\")\n",
    "\n",
    "delivery=pd.read_csv(r\"D:\\dataset\\deliveries.csv\")"
   ]
  },
  {
   "cell_type": "markdown",
   "metadata": {
    "id": "U9rc4mxcei1q"
   },
   "source": [
    "displaying the first 5 rows in match dataset"
   ]
  },
  {
   "cell_type": "code",
   "execution_count": 5,
   "metadata": {
    "colab": {
     "base_uri": "https://localhost:8080/",
     "height": 430
    },
    "id": "ROc1Tn0wn-CT",
    "outputId": "d92a5a00-07ed-457a-8e1f-a828a9e9bc54"
   },
   "outputs": [
    {
     "data": {
      "text/html": [
       "<div>\n",
       "<style scoped>\n",
       "    .dataframe tbody tr th:only-of-type {\n",
       "        vertical-align: middle;\n",
       "    }\n",
       "\n",
       "    .dataframe tbody tr th {\n",
       "        vertical-align: top;\n",
       "    }\n",
       "\n",
       "    .dataframe thead th {\n",
       "        text-align: right;\n",
       "    }\n",
       "</style>\n",
       "<table border=\"1\" class=\"dataframe\">\n",
       "  <thead>\n",
       "    <tr style=\"text-align: right;\">\n",
       "      <th></th>\n",
       "      <th>id</th>\n",
       "      <th>city</th>\n",
       "      <th>date</th>\n",
       "      <th>player_of_match</th>\n",
       "      <th>venue</th>\n",
       "      <th>neutral_venue</th>\n",
       "      <th>team1</th>\n",
       "      <th>team2</th>\n",
       "      <th>toss_winner</th>\n",
       "      <th>toss_decision</th>\n",
       "      <th>winner</th>\n",
       "      <th>result</th>\n",
       "      <th>result_margin</th>\n",
       "      <th>eliminator</th>\n",
       "      <th>method</th>\n",
       "      <th>umpire1</th>\n",
       "      <th>umpire2</th>\n",
       "    </tr>\n",
       "  </thead>\n",
       "  <tbody>\n",
       "    <tr>\n",
       "      <th>0</th>\n",
       "      <td>335982</td>\n",
       "      <td>Bangalore</td>\n",
       "      <td>18-04-2008</td>\n",
       "      <td>BB McCullum</td>\n",
       "      <td>M Chinnaswamy Stadium</td>\n",
       "      <td>0</td>\n",
       "      <td>Royal Challengers Bangalore</td>\n",
       "      <td>Kolkata Knight Riders</td>\n",
       "      <td>Royal Challengers Bangalore</td>\n",
       "      <td>field</td>\n",
       "      <td>Kolkata Knight Riders</td>\n",
       "      <td>runs</td>\n",
       "      <td>140.0</td>\n",
       "      <td>N</td>\n",
       "      <td>NaN</td>\n",
       "      <td>Asad Rauf</td>\n",
       "      <td>RE Koertzen</td>\n",
       "    </tr>\n",
       "    <tr>\n",
       "      <th>1</th>\n",
       "      <td>335983</td>\n",
       "      <td>Chandigarh</td>\n",
       "      <td>19-04-2008</td>\n",
       "      <td>MEK Hussey</td>\n",
       "      <td>Punjab Cricket Association Stadium, Mohali</td>\n",
       "      <td>0</td>\n",
       "      <td>Kings XI Punjab</td>\n",
       "      <td>Chennai Super Kings</td>\n",
       "      <td>Chennai Super Kings</td>\n",
       "      <td>bat</td>\n",
       "      <td>Chennai Super Kings</td>\n",
       "      <td>runs</td>\n",
       "      <td>33.0</td>\n",
       "      <td>N</td>\n",
       "      <td>NaN</td>\n",
       "      <td>MR Benson</td>\n",
       "      <td>SL Shastri</td>\n",
       "    </tr>\n",
       "    <tr>\n",
       "      <th>2</th>\n",
       "      <td>335984</td>\n",
       "      <td>Delhi</td>\n",
       "      <td>19-04-2008</td>\n",
       "      <td>MF Maharoof</td>\n",
       "      <td>Feroz Shah Kotla</td>\n",
       "      <td>0</td>\n",
       "      <td>Delhi Daredevils</td>\n",
       "      <td>Rajasthan Royals</td>\n",
       "      <td>Rajasthan Royals</td>\n",
       "      <td>bat</td>\n",
       "      <td>Delhi Daredevils</td>\n",
       "      <td>wickets</td>\n",
       "      <td>9.0</td>\n",
       "      <td>N</td>\n",
       "      <td>NaN</td>\n",
       "      <td>Aleem Dar</td>\n",
       "      <td>GA Pratapkumar</td>\n",
       "    </tr>\n",
       "    <tr>\n",
       "      <th>3</th>\n",
       "      <td>335985</td>\n",
       "      <td>Mumbai</td>\n",
       "      <td>20-04-2008</td>\n",
       "      <td>MV Boucher</td>\n",
       "      <td>Wankhede Stadium</td>\n",
       "      <td>0</td>\n",
       "      <td>Mumbai Indians</td>\n",
       "      <td>Royal Challengers Bangalore</td>\n",
       "      <td>Mumbai Indians</td>\n",
       "      <td>bat</td>\n",
       "      <td>Royal Challengers Bangalore</td>\n",
       "      <td>wickets</td>\n",
       "      <td>5.0</td>\n",
       "      <td>N</td>\n",
       "      <td>NaN</td>\n",
       "      <td>SJ Davis</td>\n",
       "      <td>DJ Harper</td>\n",
       "    </tr>\n",
       "    <tr>\n",
       "      <th>4</th>\n",
       "      <td>335986</td>\n",
       "      <td>Kolkata</td>\n",
       "      <td>20-04-2008</td>\n",
       "      <td>DJ Hussey</td>\n",
       "      <td>Eden Gardens</td>\n",
       "      <td>0</td>\n",
       "      <td>Kolkata Knight Riders</td>\n",
       "      <td>Deccan Chargers</td>\n",
       "      <td>Deccan Chargers</td>\n",
       "      <td>bat</td>\n",
       "      <td>Kolkata Knight Riders</td>\n",
       "      <td>wickets</td>\n",
       "      <td>5.0</td>\n",
       "      <td>N</td>\n",
       "      <td>NaN</td>\n",
       "      <td>BF Bowden</td>\n",
       "      <td>K Hariharan</td>\n",
       "    </tr>\n",
       "  </tbody>\n",
       "</table>\n",
       "</div>"
      ],
      "text/plain": [
       "       id        city        date player_of_match  \\\n",
       "0  335982   Bangalore  18-04-2008     BB McCullum   \n",
       "1  335983  Chandigarh  19-04-2008      MEK Hussey   \n",
       "2  335984       Delhi  19-04-2008     MF Maharoof   \n",
       "3  335985      Mumbai  20-04-2008      MV Boucher   \n",
       "4  335986     Kolkata  20-04-2008       DJ Hussey   \n",
       "\n",
       "                                        venue  neutral_venue  \\\n",
       "0                       M Chinnaswamy Stadium              0   \n",
       "1  Punjab Cricket Association Stadium, Mohali              0   \n",
       "2                            Feroz Shah Kotla              0   \n",
       "3                            Wankhede Stadium              0   \n",
       "4                                Eden Gardens              0   \n",
       "\n",
       "                         team1                        team2  \\\n",
       "0  Royal Challengers Bangalore        Kolkata Knight Riders   \n",
       "1              Kings XI Punjab          Chennai Super Kings   \n",
       "2             Delhi Daredevils             Rajasthan Royals   \n",
       "3               Mumbai Indians  Royal Challengers Bangalore   \n",
       "4        Kolkata Knight Riders              Deccan Chargers   \n",
       "\n",
       "                   toss_winner toss_decision                       winner  \\\n",
       "0  Royal Challengers Bangalore         field        Kolkata Knight Riders   \n",
       "1          Chennai Super Kings           bat          Chennai Super Kings   \n",
       "2             Rajasthan Royals           bat             Delhi Daredevils   \n",
       "3               Mumbai Indians           bat  Royal Challengers Bangalore   \n",
       "4              Deccan Chargers           bat        Kolkata Knight Riders   \n",
       "\n",
       "    result  result_margin eliminator method    umpire1         umpire2  \n",
       "0     runs          140.0          N    NaN  Asad Rauf     RE Koertzen  \n",
       "1     runs           33.0          N    NaN  MR Benson      SL Shastri  \n",
       "2  wickets            9.0          N    NaN  Aleem Dar  GA Pratapkumar  \n",
       "3  wickets            5.0          N    NaN   SJ Davis       DJ Harper  \n",
       "4  wickets            5.0          N    NaN  BF Bowden     K Hariharan  "
      ]
     },
     "execution_count": 5,
     "metadata": {},
     "output_type": "execute_result"
    }
   ],
   "source": [
    "match.head()"
   ]
  },
  {
   "cell_type": "markdown",
   "metadata": {
    "id": "1gWV7eengkbq"
   },
   "source": [
    "Inference:\n",
    "The first match back in 2008 was played between KKR and RCB. KKR has won the match at M Chinnaswamy Stadium and the Player of the Match was BB McCullum. The match result was decided by runs."
   ]
  },
  {
   "cell_type": "markdown",
   "metadata": {
    "id": "A35G54TZek1h"
   },
   "source": [
    "displaying the first five rows in delivery dataset"
   ]
  },
  {
   "cell_type": "code",
   "execution_count": 6,
   "metadata": {
    "colab": {
     "base_uri": "https://localhost:8080/",
     "height": 397
    },
    "id": "edRYFASRoBQS",
    "outputId": "283adbb1-64a5-484c-96d6-cb95d59049b5"
   },
   "outputs": [
    {
     "data": {
      "text/html": [
       "<div>\n",
       "<style scoped>\n",
       "    .dataframe tbody tr th:only-of-type {\n",
       "        vertical-align: middle;\n",
       "    }\n",
       "\n",
       "    .dataframe tbody tr th {\n",
       "        vertical-align: top;\n",
       "    }\n",
       "\n",
       "    .dataframe thead th {\n",
       "        text-align: right;\n",
       "    }\n",
       "</style>\n",
       "<table border=\"1\" class=\"dataframe\">\n",
       "  <thead>\n",
       "    <tr style=\"text-align: right;\">\n",
       "      <th></th>\n",
       "      <th>id</th>\n",
       "      <th>inning</th>\n",
       "      <th>over</th>\n",
       "      <th>ball</th>\n",
       "      <th>batsman</th>\n",
       "      <th>non_striker</th>\n",
       "      <th>bowler</th>\n",
       "      <th>batsman_runs</th>\n",
       "      <th>extra_runs</th>\n",
       "      <th>total_runs</th>\n",
       "      <th>non_boundary</th>\n",
       "      <th>is_wicket</th>\n",
       "      <th>dismissal_kind</th>\n",
       "      <th>player_dismissed</th>\n",
       "      <th>fielder</th>\n",
       "      <th>extras_type</th>\n",
       "      <th>batting_team</th>\n",
       "      <th>bowling_team</th>\n",
       "    </tr>\n",
       "  </thead>\n",
       "  <tbody>\n",
       "    <tr>\n",
       "      <th>0</th>\n",
       "      <td>335982</td>\n",
       "      <td>1</td>\n",
       "      <td>6</td>\n",
       "      <td>5</td>\n",
       "      <td>RT Ponting</td>\n",
       "      <td>BB McCullum</td>\n",
       "      <td>AA Noffke</td>\n",
       "      <td>1</td>\n",
       "      <td>0</td>\n",
       "      <td>1</td>\n",
       "      <td>0</td>\n",
       "      <td>0</td>\n",
       "      <td>NaN</td>\n",
       "      <td>NaN</td>\n",
       "      <td>NaN</td>\n",
       "      <td>NaN</td>\n",
       "      <td>Kolkata Knight Riders</td>\n",
       "      <td>Royal Challengers Bangalore</td>\n",
       "    </tr>\n",
       "    <tr>\n",
       "      <th>1</th>\n",
       "      <td>335982</td>\n",
       "      <td>1</td>\n",
       "      <td>6</td>\n",
       "      <td>6</td>\n",
       "      <td>BB McCullum</td>\n",
       "      <td>RT Ponting</td>\n",
       "      <td>AA Noffke</td>\n",
       "      <td>1</td>\n",
       "      <td>0</td>\n",
       "      <td>1</td>\n",
       "      <td>0</td>\n",
       "      <td>0</td>\n",
       "      <td>NaN</td>\n",
       "      <td>NaN</td>\n",
       "      <td>NaN</td>\n",
       "      <td>NaN</td>\n",
       "      <td>Kolkata Knight Riders</td>\n",
       "      <td>Royal Challengers Bangalore</td>\n",
       "    </tr>\n",
       "    <tr>\n",
       "      <th>2</th>\n",
       "      <td>335982</td>\n",
       "      <td>1</td>\n",
       "      <td>7</td>\n",
       "      <td>1</td>\n",
       "      <td>BB McCullum</td>\n",
       "      <td>RT Ponting</td>\n",
       "      <td>Z Khan</td>\n",
       "      <td>0</td>\n",
       "      <td>0</td>\n",
       "      <td>0</td>\n",
       "      <td>0</td>\n",
       "      <td>0</td>\n",
       "      <td>NaN</td>\n",
       "      <td>NaN</td>\n",
       "      <td>NaN</td>\n",
       "      <td>NaN</td>\n",
       "      <td>Kolkata Knight Riders</td>\n",
       "      <td>Royal Challengers Bangalore</td>\n",
       "    </tr>\n",
       "    <tr>\n",
       "      <th>3</th>\n",
       "      <td>335982</td>\n",
       "      <td>1</td>\n",
       "      <td>7</td>\n",
       "      <td>2</td>\n",
       "      <td>BB McCullum</td>\n",
       "      <td>RT Ponting</td>\n",
       "      <td>Z Khan</td>\n",
       "      <td>1</td>\n",
       "      <td>0</td>\n",
       "      <td>1</td>\n",
       "      <td>0</td>\n",
       "      <td>0</td>\n",
       "      <td>NaN</td>\n",
       "      <td>NaN</td>\n",
       "      <td>NaN</td>\n",
       "      <td>NaN</td>\n",
       "      <td>Kolkata Knight Riders</td>\n",
       "      <td>Royal Challengers Bangalore</td>\n",
       "    </tr>\n",
       "    <tr>\n",
       "      <th>4</th>\n",
       "      <td>335982</td>\n",
       "      <td>1</td>\n",
       "      <td>7</td>\n",
       "      <td>3</td>\n",
       "      <td>RT Ponting</td>\n",
       "      <td>BB McCullum</td>\n",
       "      <td>Z Khan</td>\n",
       "      <td>1</td>\n",
       "      <td>0</td>\n",
       "      <td>1</td>\n",
       "      <td>0</td>\n",
       "      <td>0</td>\n",
       "      <td>NaN</td>\n",
       "      <td>NaN</td>\n",
       "      <td>NaN</td>\n",
       "      <td>NaN</td>\n",
       "      <td>Kolkata Knight Riders</td>\n",
       "      <td>Royal Challengers Bangalore</td>\n",
       "    </tr>\n",
       "  </tbody>\n",
       "</table>\n",
       "</div>"
      ],
      "text/plain": [
       "       id  inning  over  ball      batsman  non_striker     bowler  \\\n",
       "0  335982       1     6     5   RT Ponting  BB McCullum  AA Noffke   \n",
       "1  335982       1     6     6  BB McCullum   RT Ponting  AA Noffke   \n",
       "2  335982       1     7     1  BB McCullum   RT Ponting     Z Khan   \n",
       "3  335982       1     7     2  BB McCullum   RT Ponting     Z Khan   \n",
       "4  335982       1     7     3   RT Ponting  BB McCullum     Z Khan   \n",
       "\n",
       "   batsman_runs  extra_runs  total_runs  non_boundary  is_wicket  \\\n",
       "0             1           0           1             0          0   \n",
       "1             1           0           1             0          0   \n",
       "2             0           0           0             0          0   \n",
       "3             1           0           1             0          0   \n",
       "4             1           0           1             0          0   \n",
       "\n",
       "  dismissal_kind player_dismissed fielder extras_type           batting_team  \\\n",
       "0            NaN              NaN     NaN         NaN  Kolkata Knight Riders   \n",
       "1            NaN              NaN     NaN         NaN  Kolkata Knight Riders   \n",
       "2            NaN              NaN     NaN         NaN  Kolkata Knight Riders   \n",
       "3            NaN              NaN     NaN         NaN  Kolkata Knight Riders   \n",
       "4            NaN              NaN     NaN         NaN  Kolkata Knight Riders   \n",
       "\n",
       "                  bowling_team  \n",
       "0  Royal Challengers Bangalore  \n",
       "1  Royal Challengers Bangalore  \n",
       "2  Royal Challengers Bangalore  \n",
       "3  Royal Challengers Bangalore  \n",
       "4  Royal Challengers Bangalore  "
      ]
     },
     "execution_count": 6,
     "metadata": {},
     "output_type": "execute_result"
    }
   ],
   "source": [
    "delivery.head()"
   ]
  },
  {
   "cell_type": "code",
   "execution_count": 7,
   "metadata": {
    "colab": {
     "base_uri": "https://localhost:8080/",
     "height": 0
    },
    "id": "kfyH0v-9oEiF",
    "outputId": "d7d53aeb-3464-45e9-c462-c8c461e79c82"
   },
   "outputs": [
    {
     "name": "stdout",
     "output_type": "stream",
     "text": [
      "<class 'pandas.core.frame.DataFrame'>\n",
      "RangeIndex: 816 entries, 0 to 815\n",
      "Data columns (total 17 columns):\n",
      " #   Column           Non-Null Count  Dtype  \n",
      "---  ------           --------------  -----  \n",
      " 0   id               816 non-null    int64  \n",
      " 1   city             803 non-null    object \n",
      " 2   date             816 non-null    object \n",
      " 3   player_of_match  812 non-null    object \n",
      " 4   venue            816 non-null    object \n",
      " 5   neutral_venue    816 non-null    int64  \n",
      " 6   team1            816 non-null    object \n",
      " 7   team2            816 non-null    object \n",
      " 8   toss_winner      816 non-null    object \n",
      " 9   toss_decision    816 non-null    object \n",
      " 10  winner           812 non-null    object \n",
      " 11  result           812 non-null    object \n",
      " 12  result_margin    799 non-null    float64\n",
      " 13  eliminator       812 non-null    object \n",
      " 14  method           19 non-null     object \n",
      " 15  umpire1          816 non-null    object \n",
      " 16  umpire2          816 non-null    object \n",
      "dtypes: float64(1), int64(2), object(14)\n",
      "memory usage: 108.5+ KB\n"
     ]
    }
   ],
   "source": [
    "match.info()"
   ]
  },
  {
   "cell_type": "code",
   "execution_count": 8,
   "metadata": {
    "colab": {
     "base_uri": "https://localhost:8080/",
     "height": 0
    },
    "id": "8hBkvQxUoTUe",
    "outputId": "965fdd7b-0062-4c35-ab80-8b48c350ff8e"
   },
   "outputs": [
    {
     "name": "stdout",
     "output_type": "stream",
     "text": [
      "<class 'pandas.core.frame.DataFrame'>\n",
      "RangeIndex: 193468 entries, 0 to 193467\n",
      "Data columns (total 18 columns):\n",
      " #   Column            Non-Null Count   Dtype \n",
      "---  ------            --------------   ----- \n",
      " 0   id                193468 non-null  int64 \n",
      " 1   inning            193468 non-null  int64 \n",
      " 2   over              193468 non-null  int64 \n",
      " 3   ball              193468 non-null  int64 \n",
      " 4   batsman           193468 non-null  object\n",
      " 5   non_striker       193468 non-null  object\n",
      " 6   bowler            193468 non-null  object\n",
      " 7   batsman_runs      193468 non-null  int64 \n",
      " 8   extra_runs        193468 non-null  int64 \n",
      " 9   total_runs        193468 non-null  int64 \n",
      " 10  non_boundary      193468 non-null  int64 \n",
      " 11  is_wicket         193468 non-null  int64 \n",
      " 12  dismissal_kind    9495 non-null    object\n",
      " 13  player_dismissed  9495 non-null    object\n",
      " 14  fielder           6784 non-null    object\n",
      " 15  extras_type       10233 non-null   object\n",
      " 16  batting_team      193468 non-null  object\n",
      " 17  bowling_team      193277 non-null  object\n",
      "dtypes: int64(9), object(9)\n",
      "memory usage: 26.6+ MB\n"
     ]
    }
   ],
   "source": [
    "delivery.info()"
   ]
  },
  {
   "cell_type": "code",
   "execution_count": 9,
   "metadata": {
    "colab": {
     "base_uri": "https://localhost:8080/",
     "height": 0
    },
    "id": "JbFt4uxPoWV1",
    "outputId": "bc19f12d-e82e-4f72-fca8-9864d00f741d"
   },
   "outputs": [
    {
     "data": {
      "text/plain": [
       "['Kolkata Knight Riders',\n",
       " 'Delhi Daredevils',\n",
       " 'Chennai Super Kings',\n",
       " 'Kochi Tuskers Kerala',\n",
       " 'Pune Warriors',\n",
       " 'Gujarat Lions',\n",
       " 'Rising Pune Supergiants',\n",
       " 'Delhi Capitals',\n",
       " 'Sunrisers Hyderabad',\n",
       " 'Mumbai Indians',\n",
       " 'Rajasthan Royals',\n",
       " 'Deccan Chargers',\n",
       " 'Rising Pune Supergiant',\n",
       " 'Kings XI Punjab',\n",
       " 'Royal Challengers Bangalore']"
      ]
     },
     "execution_count": 9,
     "metadata": {},
     "output_type": "execute_result"
    }
   ],
   "source": [
    "#List of all the participating teams\n",
    "all_teams = match['team1'].tolist() + match['team2'].tolist()\n",
    "all_teams = list(set(all_teams))\n",
    "all_teams"
   ]
  },
  {
   "cell_type": "markdown",
   "metadata": {
    "id": "tAlaB_ndht46"
   },
   "source": [
    " INFERENCE:\n",
    " list of teams that played between the period 2008 to 2020."
   ]
  },
  {
   "cell_type": "code",
   "execution_count": 10,
   "metadata": {
    "colab": {
     "base_uri": "https://localhost:8080/",
     "height": 351
    },
    "id": "lI6xbf9cphZK",
    "outputId": "d69dfbd5-531c-45a2-e3f8-3dad9ac05e02"
   },
   "outputs": [
    {
     "name": "stderr",
     "output_type": "stream",
     "text": [
      "C:\\Users\\HP\\anaconda3\\lib\\site-packages\\seaborn\\_decorators.py:36: FutureWarning: Pass the following variable as a keyword arg: x. From version 0.12, the only valid positional argument will be `data`, and passing other arguments without an explicit keyword will result in an error or misinterpretation.\n",
      "  warnings.warn(\n"
     ]
    },
    {
     "data": {
      "text/plain": [
       "<AxesSubplot:xlabel='eliminator', ylabel='count'>"
      ]
     },
     "execution_count": 10,
     "metadata": {},
     "output_type": "execute_result"
    },
    {
     "data": {
      "image/png": "[encoded data removed]",
      "text/plain": [
       "<Figure size 432x288 with 1 Axes>"
      ]
     },
     "metadata": {
      "needs_background": "light"
     },
     "output_type": "display_data"
    }
   ],
   "source": [
    "#Eliminator\n",
    "match['eliminator'].value_counts()\n",
    "\n",
    "#graphical view\n",
    "sns.countplot('eliminator', data=match)"
   ]
  },
  {
   "cell_type": "code",
   "execution_count": 11,
   "metadata": {
    "colab": {
     "base_uri": "https://localhost:8080/",
     "height": 648
    },
    "id": "I1gjESuZpx-V",
    "outputId": "a7532870-817b-49f1-c24f-950f46e64cff"
   },
   "outputs": [
    {
     "name": "stderr",
     "output_type": "stream",
     "text": [
      "C:\\Users\\HP\\anaconda3\\lib\\site-packages\\seaborn\\_decorators.py:36: FutureWarning: Pass the following variable as a keyword arg: x. From version 0.12, the only valid positional argument will be `data`, and passing other arguments without an explicit keyword will result in an error or misinterpretation.\n",
      "  warnings.warn(\n"
     ]
    },
    {
     "data": {
      "text/plain": [
       "(array([ 0,  1,  2,  3,  4,  5,  6,  7,  8,  9, 10, 11, 12, 13, 14, 15, 16,\n",
       "        17, 18, 19, 20, 21, 22, 23, 24, 25, 26, 27, 28, 29, 30, 31, 32, 33,\n",
       "        34, 35]),\n",
       " [Text(0, 0, 'M Chinnaswamy Stadium'),\n",
       "  Text(1, 0, 'Punjab Cricket Association Stadium, Mohali'),\n",
       "  Text(2, 0, 'Feroz Shah Kotla'),\n",
       "  Text(3, 0, 'Wankhede Stadium'),\n",
       "  Text(4, 0, 'Eden Gardens'),\n",
       "  Text(5, 0, 'Sawai Mansingh Stadium'),\n",
       "  Text(6, 0, 'Rajiv Gandhi International Stadium, Uppal'),\n",
       "  Text(7, 0, 'MA Chidambaram Stadium, Chepauk'),\n",
       "  Text(8, 0, 'Dr DY Patil Sports Academy'),\n",
       "  Text(9, 0, 'Newlands'),\n",
       "  Text(10, 0, \"St George's Park\"),\n",
       "  Text(11, 0, 'Kingsmead'),\n",
       "  Text(12, 0, 'SuperSport Park'),\n",
       "  Text(13, 0, 'Buffalo Park'),\n",
       "  Text(14, 0, 'New Wanderers Stadium'),\n",
       "  Text(15, 0, 'De Beers Diamond Oval'),\n",
       "  Text(16, 0, 'OUTsurance Oval'),\n",
       "  Text(17, 0, 'Brabourne Stadium'),\n",
       "  Text(18, 0, 'Sardar Patel Stadium, Motera'),\n",
       "  Text(19, 0, 'Barabati Stadium'),\n",
       "  Text(20, 0, 'Vidarbha Cricket Association Stadium, Jamtha'),\n",
       "  Text(21, 0, 'Himachal Pradesh Cricket Association Stadium'),\n",
       "  Text(22, 0, 'Nehru Stadium'),\n",
       "  Text(23, 0, 'Holkar Cricket Stadium'),\n",
       "  Text(24, 0, 'Dr. Y.S. Rajasekhara Reddy ACA-VDCA Cricket Stadium'),\n",
       "  Text(25, 0, 'Subrata Roy Sahara Stadium'),\n",
       "  Text(26, 0, 'Shaheed Veer Narayan Singh International Stadium'),\n",
       "  Text(27, 0, 'JSCA International Stadium Complex'),\n",
       "  Text(28, 0, 'Sheikh Zayed Stadium'),\n",
       "  Text(29, 0, 'Sharjah Cricket Stadium'),\n",
       "  Text(30, 0, 'Dubai International Cricket Stadium'),\n",
       "  Text(31, 0, 'Maharashtra Cricket Association Stadium'),\n",
       "  Text(32, 0, 'Punjab Cricket Association IS Bindra Stadium, Mohali'),\n",
       "  Text(33, 0, 'Saurashtra Cricket Association Stadium'),\n",
       "  Text(34, 0, 'Green Park'),\n",
       "  Text(35, 0, 'M.Chinnaswamy Stadium')])"
      ]
     },
     "execution_count": 11,
     "metadata": {},
     "output_type": "execute_result"
    },
    {
     "data": {
      "image/png": "[encoded data removed]",
      "text/plain": [
       "<Figure size 432x288 with 1 Axes>"
      ]
     },
     "metadata": {
      "needs_background": "light"
     },
     "output_type": "display_data"
    }
   ],
   "source": [
    "#Number of matches per venue\n",
    "sns.countplot('venue', data=match)\n",
    "plt.xticks(rotation='vertical')"
   ]
  },
  {
   "cell_type": "markdown",
   "metadata": {
    "id": "Y-9tUXEhjsI1"
   },
   "source": [
    "Eden Gardens is the fan-favourite ground of IPL, nearly 80 matches have been hosted there."
   ]
  },
  {
   "cell_type": "code",
   "execution_count": 12,
   "metadata": {
    "colab": {
     "base_uri": "https://localhost:8080/",
     "height": 282
    },
    "id": "oT6RzspXp3Ya",
    "outputId": "29868f37-ef9f-413a-d378-86b723b45f94"
   },
   "outputs": [
    {
     "data": {
      "text/plain": [
       "<AxesSubplot:>"
      ]
     },
     "execution_count": 12,
     "metadata": {},
     "output_type": "execute_result"
    },
    {
     "data": {
      "image/png": "[encoded data removed]",
      "text/plain": [
       "<Figure size 432x288 with 1 Axes>"
      ]
     },
     "metadata": {
      "needs_background": "light"
     },
     "output_type": "display_data"
    }
   ],
   "source": [
    "#Matches per team\n",
    "x = match['team1'].value_counts()\n",
    "y = match['team2'].value_counts()\n",
    "(x+y).plot(kind='barh')"
   ]
  },
  {
   "cell_type": "markdown",
   "metadata": {
    "id": "_SKVJ_pZkE9s"
   },
   "source": [
    "INFERENCE:\n",
    "Mumbai Indians played the highest number of matches in the IPL."
   ]
  },
  {
   "cell_type": "code",
   "execution_count": 13,
   "metadata": {
    "colab": {
     "base_uri": "https://localhost:8080/",
     "height": 0
    },
    "id": "Cu62H5_DqN1o",
    "outputId": "2c85ec87-7ff5-4b12-9a23-461851ef8958"
   },
   "outputs": [
    {
     "name": "stdout",
     "output_type": "stream",
     "text": [
      "Winner                     \n",
      "Mumbai Indians                 120\n",
      "Chennai Super Kings            106\n",
      "Kolkata Knight Riders           99\n",
      "Royal Challengers Bangalore     91\n",
      "Kings XI Punjab                 88\n",
      "Rajasthan Royals                81\n",
      "Delhi Daredevils                67\n",
      "Sunrisers Hyderabad             66\n",
      "Deccan Chargers                 29\n",
      "Delhi Capitals                  19\n",
      "Gujarat Lions                   13\n",
      "Pune Warriors                   12\n",
      "Rising Pune Supergiant          10\n",
      "Kochi Tuskers Kerala             6\n",
      "Rising Pune Supergiants          5\n",
      "dtype: int64\n"
     ]
    }
   ],
   "source": [
    "#Match won by each team\n",
    "x=pd.DataFrame({\"Winner\":match['winner']}).value_counts()\n",
    "print(x)"
   ]
  },
  {
   "cell_type": "code",
   "execution_count": 14,
   "metadata": {
    "colab": {
     "base_uri": "https://localhost:8080/",
     "height": 502
    },
    "id": "peFOlfK8qSoF",
    "outputId": "f28499ab-2864-4a03-9bd3-5590ffcf5c58"
   },
   "outputs": [
    {
     "name": "stderr",
     "output_type": "stream",
     "text": [
      "C:\\Users\\HP\\anaconda3\\lib\\site-packages\\seaborn\\_decorators.py:36: FutureWarning: Pass the following variable as a keyword arg: x. From version 0.12, the only valid positional argument will be `data`, and passing other arguments without an explicit keyword will result in an error or misinterpretation.\n",
      "  warnings.warn(\n"
     ]
    },
    {
     "data": {
      "text/plain": [
       "(array([ 0,  1,  2,  3,  4,  5,  6,  7,  8,  9, 10, 11, 12, 13, 14]),\n",
       " [Text(0, 0, 'Kolkata Knight Riders'),\n",
       "  Text(1, 0, 'Chennai Super Kings'),\n",
       "  Text(2, 0, 'Delhi Daredevils'),\n",
       "  Text(3, 0, 'Royal Challengers Bangalore'),\n",
       "  Text(4, 0, 'Rajasthan Royals'),\n",
       "  Text(5, 0, 'Kings XI Punjab'),\n",
       "  Text(6, 0, 'Deccan Chargers'),\n",
       "  Text(7, 0, 'Mumbai Indians'),\n",
       "  Text(8, 0, 'Pune Warriors'),\n",
       "  Text(9, 0, 'Kochi Tuskers Kerala'),\n",
       "  Text(10, 0, 'Sunrisers Hyderabad'),\n",
       "  Text(11, 0, 'Rising Pune Supergiants'),\n",
       "  Text(12, 0, 'Gujarat Lions'),\n",
       "  Text(13, 0, 'Rising Pune Supergiant'),\n",
       "  Text(14, 0, 'Delhi Capitals')])"
      ]
     },
     "execution_count": 14,
     "metadata": {},
     "output_type": "execute_result"
    },
    {
     "data": {
      "image/png": "[encoded data removed]",
      "text/plain": [
       "<Figure size 432x288 with 1 Axes>"
      ]
     },
     "metadata": {
      "needs_background": "light"
     },
     "output_type": "display_data"
    }
   ],
   "source": [
    "sns.countplot('winner', data=match)\n",
    "plt.xticks(rotation='vertical')"
   ]
  },
  {
   "cell_type": "markdown",
   "metadata": {
    "id": "JLpXKcpxkaJR"
   },
   "source": [
    "Mumbai Indians win the highest number of matches followed by CSK and other teams."
   ]
  },
  {
   "cell_type": "code",
   "execution_count": 15,
   "metadata": {
    "colab": {
     "base_uri": "https://localhost:8080/",
     "height": 488
    },
    "id": "HDCLt8UNqXvJ",
    "outputId": "56ddee5c-7bfd-4976-f63a-22db88c40fa9"
   },
   "outputs": [
    {
     "name": "stderr",
     "output_type": "stream",
     "text": [
      "C:\\Users\\HP\\anaconda3\\lib\\site-packages\\seaborn\\_decorators.py:36: FutureWarning: Pass the following variable as a keyword arg: x. From version 0.12, the only valid positional argument will be `data`, and passing other arguments without an explicit keyword will result in an error or misinterpretation.\n",
      "  warnings.warn(\n"
     ]
    },
    {
     "data": {
      "image/png": "[encoded data removed]",
      "text/plain": [
       "<Figure size 432x288 with 1 Axes>"
      ]
     },
     "metadata": {
      "needs_background": "light"
     },
     "output_type": "display_data"
    }
   ],
   "source": [
    "#Most win in eliminator\n",
    "sns.countplot(match['winner'][match['eliminator']=='Y'],data=match)\n",
    "plt.title(\"Most wins in Eliminator\",fontsize=17)\n",
    "plt.xticks(rotation=90)\n",
    "plt.show()"
   ]
  },
  {
   "cell_type": "markdown",
   "metadata": {
    "id": "ipuzA1cik7jL"
   },
   "source": [
    "Top 5 Players with the Highest Number of Man of the Match Awards"
   ]
  },
  {
   "cell_type": "code",
   "execution_count": 16,
   "metadata": {
    "colab": {
     "base_uri": "https://localhost:8080/",
     "height": 455
    },
    "id": "st_WDceyqlAK",
    "outputId": "71adcb8f-0409-438f-c3ba-d525d094cbb9"
   },
   "outputs": [
    {
     "name": "stdout",
     "output_type": "stream",
     "text": [
      "AB de Villiers    23\n",
      "CH Gayle          22\n",
      "RG Sharma         18\n",
      "MS Dhoni          17\n",
      "DA Warner         17\n",
      "Name: player_of_match, dtype: int64\n"
     ]
    },
    {
     "data": {
      "image/png": "[encoded data removed]",
      "text/plain": [
       "<Figure size 432x288 with 1 Axes>"
      ]
     },
     "metadata": {
      "needs_background": "light"
     },
     "output_type": "display_data"
    }
   ],
   "source": [
    "temp_data=match['player_of_match'].value_counts().head()\n",
    "print(temp_data)\n",
    "#sns.barplot(x=data['player_of_match'].value_counts().head().index,y=data['player_of_match'].value_counts().head().values,data=data)\n",
    "sns.barplot(x=temp_data.index,y=temp_data.values,data=match)\n",
    "\n",
    "plt.title(\"Top 5 MoM\")\n",
    "plt.xticks(rotation=90)\n",
    "plt.xlabel(\"Match Count\")\n",
    "plt.ylabel(\"Player\")\n",
    "plt.show()"
   ]
  },
  {
   "cell_type": "code",
   "execution_count": 17,
   "metadata": {
    "colab": {
     "base_uri": "https://localhost:8080/",
     "height": 0
    },
    "id": "WVdao5bZqrjS",
    "outputId": "21b8e5be-258e-4c99-f067-78a9c6f18c3a"
   },
   "outputs": [
    {
     "data": {
      "text/plain": [
       "(193468, 18)"
      ]
     },
     "execution_count": 17,
     "metadata": {},
     "output_type": "execute_result"
    }
   ],
   "source": [
    "#About delivery\n",
    "delivery.shape"
   ]
  },
  {
   "cell_type": "markdown",
   "metadata": {
    "id": "2M1tBjVvxBem"
   },
   "source": [
    "The top 10 batsmen from the delivery dataset and summed up their runs. "
   ]
  },
  {
   "cell_type": "code",
   "execution_count": 18,
   "metadata": {
    "id": "zQ07buMnq4c2"
   },
   "outputs": [],
   "source": [
    "top_batsman=delivery.groupby('batsman')['batsman_runs'].agg('sum').reset_index().sort_values('batsman_runs', ascending=False).head(10)"
   ]
  },
  {
   "cell_type": "markdown",
   "metadata": {
    "id": "wsvksEU1xHrQ"
   },
   "source": [
    "We plot the information into a graph."
   ]
  },
  {
   "cell_type": "code",
   "execution_count": 19,
   "metadata": {
    "colab": {
     "base_uri": "https://localhost:8080/",
     "height": 366
    },
    "id": "1pFcr6Mfq5sZ",
    "outputId": "c599ab90-08dc-40a8-81b4-6f70edf8249c"
   },
   "outputs": [
    {
     "data": {
      "text/plain": [
       "<AxesSubplot:xlabel='batsman'>"
      ]
     },
     "execution_count": 19,
     "metadata": {},
     "output_type": "execute_result"
    },
    {
     "data": {
      "image/png": "[encoded data removed]",
      "text/plain": [
       "<Figure size 432x288 with 1 Axes>"
      ]
     },
     "metadata": {
      "needs_background": "light"
     },
     "output_type": "display_data"
    }
   ],
   "source": [
    "top_batsman.set_index('batsman', inplace=True)\n",
    "top_batsman.plot(kind='bar')"
   ]
  },
  {
   "cell_type": "markdown",
   "metadata": {
    "id": "Hkm2vVGyxT3-"
   },
   "source": [
    "INFERENCE:\n",
    "King Kohli is at the top followed by Suresh Raina and other batsmen."
   ]
  },
  {
   "cell_type": "markdown",
   "metadata": {
    "id": "HgpQL_FexejZ"
   },
   "source": [
    "The Bowler Who Has Given the Highest Number of Runs"
   ]
  },
  {
   "cell_type": "code",
   "execution_count": 20,
   "metadata": {
    "colab": {
     "base_uri": "https://localhost:8080/",
     "height": 363
    },
    "id": "wpgFT7ZCq84R",
    "outputId": "80a6e69f-58d1-4873-e11b-b65f49e7e4b2"
   },
   "outputs": [
    {
     "data": {
      "text/html": [
       "<div>\n",
       "<style scoped>\n",
       "    .dataframe tbody tr th:only-of-type {\n",
       "        vertical-align: middle;\n",
       "    }\n",
       "\n",
       "    .dataframe tbody tr th {\n",
       "        vertical-align: top;\n",
       "    }\n",
       "\n",
       "    .dataframe thead th {\n",
       "        text-align: right;\n",
       "    }\n",
       "</style>\n",
       "<table border=\"1\" class=\"dataframe\">\n",
       "  <thead>\n",
       "    <tr style=\"text-align: right;\">\n",
       "      <th></th>\n",
       "      <th>bowler</th>\n",
       "      <th>total_runs</th>\n",
       "    </tr>\n",
       "  </thead>\n",
       "  <tbody>\n",
       "    <tr>\n",
       "      <th>276</th>\n",
       "      <td>PP Chawla</td>\n",
       "      <td>4330</td>\n",
       "    </tr>\n",
       "    <tr>\n",
       "      <th>133</th>\n",
       "      <td>Harbhajan Singh</td>\n",
       "      <td>4038</td>\n",
       "    </tr>\n",
       "    <tr>\n",
       "      <th>6</th>\n",
       "      <td>A Mishra</td>\n",
       "      <td>3913</td>\n",
       "    </tr>\n",
       "    <tr>\n",
       "      <th>99</th>\n",
       "      <td>DJ Bravo</td>\n",
       "      <td>3869</td>\n",
       "    </tr>\n",
       "    <tr>\n",
       "      <th>281</th>\n",
       "      <td>R Ashwin</td>\n",
       "      <td>3756</td>\n",
       "    </tr>\n",
       "    <tr>\n",
       "      <th>396</th>\n",
       "      <td>UT Yadav</td>\n",
       "      <td>3672</td>\n",
       "    </tr>\n",
       "    <tr>\n",
       "      <th>293</th>\n",
       "      <td>RA Jadeja</td>\n",
       "      <td>3515</td>\n",
       "    </tr>\n",
       "    <tr>\n",
       "      <th>350</th>\n",
       "      <td>SL Malinga</td>\n",
       "      <td>3486</td>\n",
       "    </tr>\n",
       "    <tr>\n",
       "      <th>264</th>\n",
       "      <td>P Kumar</td>\n",
       "      <td>3342</td>\n",
       "    </tr>\n",
       "    <tr>\n",
       "      <th>57</th>\n",
       "      <td>B Kumar</td>\n",
       "      <td>3333</td>\n",
       "    </tr>\n",
       "  </tbody>\n",
       "</table>\n",
       "</div>"
      ],
      "text/plain": [
       "              bowler  total_runs\n",
       "276        PP Chawla        4330\n",
       "133  Harbhajan Singh        4038\n",
       "6           A Mishra        3913\n",
       "99          DJ Bravo        3869\n",
       "281         R Ashwin        3756\n",
       "396         UT Yadav        3672\n",
       "293        RA Jadeja        3515\n",
       "350       SL Malinga        3486\n",
       "264          P Kumar        3342\n",
       "57           B Kumar        3333"
      ]
     },
     "execution_count": 20,
     "metadata": {},
     "output_type": "execute_result"
    }
   ],
   "source": [
    "delivery.groupby('bowler')['total_runs'].agg('sum').reset_index().sort_values('total_runs', ascending=False).head(10)"
   ]
  },
  {
   "cell_type": "code",
   "execution_count": 21,
   "metadata": {
    "colab": {
     "base_uri": "https://localhost:8080/",
     "height": 431
    },
    "id": "bax92hm1rBTN",
    "outputId": "73533d16-add0-47fb-d1f9-9df23e169ac9"
   },
   "outputs": [
    {
     "data": {
      "text/plain": [
       "<AxesSubplot:xlabel='batting_team'>"
      ]
     },
     "execution_count": 21,
     "metadata": {},
     "output_type": "execute_result"
    },
    {
     "data": {
      "image/png": "[encoded data removed]",
      "text/plain": [
       "<Figure size 432x288 with 1 Axes>"
      ]
     },
     "metadata": {
      "needs_background": "light"
     },
     "output_type": "display_data"
    }
   ],
   "source": [
    "mask=delivery['bowler']=='PP Chawla'\n",
    "delivery[mask].groupby('batting_team')['total_runs'].agg('sum').plot(kind='bar')"
   ]
  },
  {
   "cell_type": "markdown",
   "metadata": {
    "id": "rDRnFRTOyflw"
   },
   "source": [
    "Over-wise Batting Performance of Each Team in the IPL (2008–2020)"
   ]
  },
  {
   "cell_type": "code",
   "execution_count": 22,
   "metadata": {
    "id": "jol3QUKSrG3_"
   },
   "outputs": [],
   "source": [
    "delivery6=delivery[mask]\n",
    "delivery6=delivery6[['batting_team','over','batsman_runs']]"
   ]
  },
  {
   "cell_type": "code",
   "execution_count": 23,
   "metadata": {
    "id": "purwjNp3rPR1"
   },
   "outputs": [],
   "source": [
    "x=delivery6.pivot_table(values='batsman_runs', index='batting_team', columns='over', aggfunc='count')"
   ]
  },
  {
   "cell_type": "code",
   "execution_count": 24,
   "metadata": {
    "colab": {
     "base_uri": "https://localhost:8080/",
     "height": 300
    },
    "id": "DGOV-nuxrSt7",
    "outputId": "7a430e58-8bbe-4708-8df4-7eba948391a7"
   },
   "outputs": [
    {
     "data": {
      "text/plain": [
       "<AxesSubplot:xlabel='over', ylabel='batting_team'>"
      ]
     },
     "execution_count": 24,
     "metadata": {},
     "output_type": "execute_result"
    },
    {
     "data": {
      "image/png": "[encoded data removed]",
      "text/plain": [
       "<Figure size 432x288 with 2 Axes>"
      ]
     },
     "metadata": {
      "needs_background": "light"
     },
     "output_type": "display_data"
    }
   ],
   "source": [
    "sns.heatmap(x, cmap='summer')"
   ]
  },
  {
   "cell_type": "code",
   "execution_count": 25,
   "metadata": {
    "colab": {
     "base_uri": "https://localhost:8080/",
     "height": 438
    },
    "id": "5FfpEboTrV1e",
    "outputId": "eadb3657-2bf4-437e-b531-58ed5fd4cf59"
   },
   "outputs": [
    {
     "name": "stderr",
     "output_type": "stream",
     "text": [
      "C:\\Users\\HP\\anaconda3\\lib\\site-packages\\seaborn\\_decorators.py:36: FutureWarning: Pass the following variable as a keyword arg: x. From version 0.12, the only valid positional argument will be `data`, and passing other arguments without an explicit keyword will result in an error or misinterpretation.\n",
      "  warnings.warn(\n"
     ]
    },
    {
     "data": {
      "text/plain": [
       "(array([0, 1, 2, 3, 4, 5, 6, 7, 8]),\n",
       " [Text(0, 0, 'caught'),\n",
       "  Text(1, 0, 'run out'),\n",
       "  Text(2, 0, 'bowled'),\n",
       "  Text(3, 0, 'lbw'),\n",
       "  Text(4, 0, 'retired hurt'),\n",
       "  Text(5, 0, 'stumped'),\n",
       "  Text(6, 0, 'caught and bowled'),\n",
       "  Text(7, 0, 'hit wicket'),\n",
       "  Text(8, 0, 'obstructing the field')])"
      ]
     },
     "execution_count": 25,
     "metadata": {},
     "output_type": "execute_result"
    },
    {
     "data": {
      "image/png": "[encoded data removed]",
      "text/plain": [
       "<Figure size 432x288 with 1 Axes>"
      ]
     },
     "metadata": {
      "needs_background": "light"
     },
     "output_type": "display_data"
    }
   ],
   "source": [
    "sns.countplot('dismissal_kind', data=delivery)\n",
    "plt.xticks(rotation='vertical')"
   ]
  },
  {
   "cell_type": "code",
   "execution_count": 26,
   "metadata": {
    "id": "9gfT3LNQrbzJ"
   },
   "outputs": [],
   "source": [
    "mask1=delivery['dismissal_kind']=='caught'\n",
    "mask2=delivery['dismissal_kind']=='bowled'\n",
    "mask3=delivery['dismissal_kind']=='lbw'\n",
    "mask4=delivery['dismissal_kind']=='caught and bowled'\n",
    "mask5=delivery['dismissal_kind']=='stumped'\n",
    "\n",
    "new_del=delivery[mask1 | mask2 | mask3 | mask4 | mask5]"
   ]
  },
  {
   "cell_type": "code",
   "execution_count": 27,
   "metadata": {
    "colab": {
     "base_uri": "https://localhost:8080/",
     "height": 362
    },
    "id": "_c6X6AjjrhCm",
    "outputId": "74c91664-b65c-4975-a0f9-8ab229d3509f"
   },
   "outputs": [
    {
     "data": {
      "text/plain": [
       "<AxesSubplot:xlabel='bowler'>"
      ]
     },
     "execution_count": 27,
     "metadata": {},
     "output_type": "execute_result"
    },
    {
     "data": {
      "image/png": "[encoded data removed]",
      "text/plain": [
       "<Figure size 432x288 with 1 Axes>"
      ]
     },
     "metadata": {
      "needs_background": "light"
     },
     "output_type": "display_data"
    }
   ],
   "source": [
    "new_del.groupby('bowler')['player_dismissed'].agg('count').sort_values(ascending=False).head(10).plot(kind='bar')"
   ]
  },
  {
   "cell_type": "markdown",
   "metadata": {
    "id": "T-d9KNYEyvPn"
   },
   "source": [
    "The top 10 players with the highest number of sixes in IPL"
   ]
  },
  {
   "cell_type": "code",
   "execution_count": 28,
   "metadata": {
    "colab": {
     "base_uri": "https://localhost:8080/",
     "height": 347
    },
    "id": "T8LFwbgerlX4",
    "outputId": "177531c7-29fd-4dcb-963a-8aa5a3b98cfb"
   },
   "outputs": [
    {
     "data": {
      "image/png": "[encoded data removed]",
      "text/plain": [
       "<Figure size 432x288 with 1 Axes>"
      ]
     },
     "metadata": {
      "needs_background": "light"
     },
     "output_type": "display_data"
    }
   ],
   "source": [
    "temp_df = delivery.groupby('batsman')['batsman_runs'].agg(lambda x:(x==6).sum()).reset_index().sort_values(by='batsman_runs', ascending=False).head(10).reset_index(drop=True)\n",
    "temp_df\n",
    "sns.barplot(x=temp_df['batsman'],y=temp_df['batsman_runs'],data=temp_df)\n",
    "\n",
    "plt.title(\"Most sixes\")\n",
    "plt.xticks(rotation=90)\n",
    "plt.xlabel(\"Batsman\")\n",
    "plt.ylabel(\"Number of 6's\")\n",
    "plt.show()"
   ]
  },
  {
   "cell_type": "markdown",
   "metadata": {
    "id": "29L6qZzFy7I6"
   },
   "source": [
    "TOP 10 MOST WICKETS BY BOWLER"
   ]
  },
  {
   "cell_type": "code",
   "execution_count": 29,
   "metadata": {
    "colab": {
     "base_uri": "https://localhost:8080/",
     "height": 369
    },
    "id": "UKGofAkRro39",
    "outputId": "d5f57b76-fd36-4b5f-ec83-8046b8896475"
   },
   "outputs": [
    {
     "data": {
      "image/png": "[encoded data removed]",
      "text/plain": [
       "<Figure size 432x288 with 1 Axes>"
      ]
     },
     "metadata": {
      "needs_background": "light"
     },
     "output_type": "display_data"
    }
   ],
   "source": [
    "temp_df = delivery.groupby('bowler')['is_wicket'].agg('sum').reset_index().sort_values(by='is_wicket', ascending=False).reset_index(drop=True).head(10)\n",
    "sns.barplot(x=temp_df['bowler'],y=temp_df['is_wicket'],data=temp_df)\n",
    "\n",
    "plt.title(\"Most wickets by a bowler\")\n",
    "plt.xticks(rotation=90)\n",
    "plt.xlabel(\"Bowler\")\n",
    "plt.ylabel(\"Number of wickets\")\n",
    "plt.show()\n"
   ]
  },
  {
   "cell_type": "code",
   "execution_count": 30,
   "metadata": {
    "id": "F2wjz_IWDLh9"
   },
   "outputs": [
    {
     "data": {
      "image/png": "[encoded data removed]",
      "text/plain": [
       "<Figure size 432x288 with 1 Axes>"
      ]
     },
     "metadata": {
      "needs_background": "light"
     },
     "output_type": "display_data"
    }
   ],
   "source": [
    "most_runs = delivery.groupby(['batsman','batting_team'])['batsman_runs'].sum().sort_values(ascending=False).reset_index().head(10)\n",
    "runs = sns.barplot(x=\"batsman\", y=\"batsman_runs\", data=most_runs ,edgecolor=(0,0,0))\n",
    "runs.set_ylabel('Total Runs')\n",
    "runs.set_xlabel('Batsman')\n",
    "plt.xticks(rotation=90)\n",
    "plt.title(\"Total Runs per Batsman\")\n",
    "plt.show()"
   ]
  },
  {
   "cell_type": "markdown",
   "metadata": {
    "id": "ThbViXueDLJw"
   },
   "source": [
    "Total runs taken by the batsman"
   ]
  },
  {
   "cell_type": "code",
   "execution_count": null,
   "metadata": {
    "colab": {
     "base_uri": "https://localhost:8080/",
     "height": 0
    },
    "id": "LCSq3gVl7kWb",
    "outputId": "dbe8d8bb-8092-460f-f7e9-e50b26522e4f"
   },
   "outputs": [],
   "source": [
    "\n"
   ]
  },
  {
   "cell_type": "code",
   "execution_count": 31,
   "metadata": {
    "id": "AAsFKHaBADeJ"
   },
   "outputs": [
    {
     "data": {
      "text/plain": [
       "id                          int64\n",
       "city                       object\n",
       "date               datetime64[ns]\n",
       "player_of_match            object\n",
       "venue                      object\n",
       "neutral_venue               int64\n",
       "team1                      object\n",
       "team2                      object\n",
       "toss_winner                object\n",
       "toss_decision              object\n",
       "winner                     object\n",
       "result                     object\n",
       "result_margin             float64\n",
       "eliminator                 object\n",
       "method                     object\n",
       "umpire1                    object\n",
       "umpire2                    object\n",
       "dtype: object"
      ]
     },
     "execution_count": 31,
     "metadata": {},
     "output_type": "execute_result"
    }
   ],
   "source": [
    "#converting datatype of date from object to date\n",
    "match['date'] = pd.to_datetime(match['date'])\n",
    "match.dtypes"
   ]
  },
  {
   "cell_type": "code",
   "execution_count": 32,
   "metadata": {
    "id": "_-bkLk2jeDLx"
   },
   "outputs": [
    {
     "data": {
      "text/html": [
       "<div>\n",
       "<style scoped>\n",
       "    .dataframe tbody tr th:only-of-type {\n",
       "        vertical-align: middle;\n",
       "    }\n",
       "\n",
       "    .dataframe tbody tr th {\n",
       "        vertical-align: top;\n",
       "    }\n",
       "\n",
       "    .dataframe thead th {\n",
       "        text-align: right;\n",
       "    }\n",
       "</style>\n",
       "<table border=\"1\" class=\"dataframe\">\n",
       "  <thead>\n",
       "    <tr style=\"text-align: right;\">\n",
       "      <th></th>\n",
       "      <th>id</th>\n",
       "      <th>neutral_venue</th>\n",
       "      <th>result_margin</th>\n",
       "    </tr>\n",
       "  </thead>\n",
       "  <tbody>\n",
       "    <tr>\n",
       "      <th>count</th>\n",
       "      <td>1.800000e+02</td>\n",
       "      <td>180.0</td>\n",
       "      <td>173.000000</td>\n",
       "    </tr>\n",
       "    <tr>\n",
       "      <th>mean</th>\n",
       "      <td>1.177420e+06</td>\n",
       "      <td>0.0</td>\n",
       "      <td>17.300578</td>\n",
       "    </tr>\n",
       "    <tr>\n",
       "      <th>std</th>\n",
       "      <td>3.343504e+04</td>\n",
       "      <td>0.0</td>\n",
       "      <td>21.549614</td>\n",
       "    </tr>\n",
       "    <tr>\n",
       "      <th>min</th>\n",
       "      <td>1.136561e+06</td>\n",
       "      <td>0.0</td>\n",
       "      <td>1.000000</td>\n",
       "    </tr>\n",
       "    <tr>\n",
       "      <th>25%</th>\n",
       "      <td>1.136606e+06</td>\n",
       "      <td>0.0</td>\n",
       "      <td>5.000000</td>\n",
       "    </tr>\n",
       "    <tr>\n",
       "      <th>50%</th>\n",
       "      <td>1.178406e+06</td>\n",
       "      <td>0.0</td>\n",
       "      <td>8.000000</td>\n",
       "    </tr>\n",
       "    <tr>\n",
       "      <th>75%</th>\n",
       "      <td>1.216506e+06</td>\n",
       "      <td>0.0</td>\n",
       "      <td>16.000000</td>\n",
       "    </tr>\n",
       "    <tr>\n",
       "      <th>max</th>\n",
       "      <td>1.237181e+06</td>\n",
       "      <td>0.0</td>\n",
       "      <td>118.000000</td>\n",
       "    </tr>\n",
       "  </tbody>\n",
       "</table>\n",
       "</div>"
      ],
      "text/plain": [
       "                 id  neutral_venue  result_margin\n",
       "count  1.800000e+02          180.0     173.000000\n",
       "mean   1.177420e+06            0.0      17.300578\n",
       "std    3.343504e+04            0.0      21.549614\n",
       "min    1.136561e+06            0.0       1.000000\n",
       "25%    1.136606e+06            0.0       5.000000\n",
       "50%    1.178406e+06            0.0       8.000000\n",
       "75%    1.216506e+06            0.0      16.000000\n",
       "max    1.237181e+06            0.0     118.000000"
      ]
     },
     "execution_count": 32,
     "metadata": {},
     "output_type": "execute_result"
    }
   ],
   "source": [
    "#since this is a very large dataset consisting of data from 2008, im going to choose only data from past 3 years 2018-2020\n",
    "match = match[(match['date'].dt.year > 2017)]\n",
    "match.describe()"
   ]
  },
  {
   "cell_type": "code",
   "execution_count": 33,
   "metadata": {
    "id": "fGaNApzG5J83"
   },
   "outputs": [
    {
     "data": {
      "text/html": [
       "<div>\n",
       "<style scoped>\n",
       "    .dataframe tbody tr th:only-of-type {\n",
       "        vertical-align: middle;\n",
       "    }\n",
       "\n",
       "    .dataframe tbody tr th {\n",
       "        vertical-align: top;\n",
       "    }\n",
       "\n",
       "    .dataframe thead th {\n",
       "        text-align: right;\n",
       "    }\n",
       "</style>\n",
       "<table border=\"1\" class=\"dataframe\">\n",
       "  <thead>\n",
       "    <tr style=\"text-align: right;\">\n",
       "      <th></th>\n",
       "      <th>id</th>\n",
       "      <th>neutral_venue</th>\n",
       "      <th>result_margin</th>\n",
       "    </tr>\n",
       "  </thead>\n",
       "  <tbody>\n",
       "    <tr>\n",
       "      <th>count</th>\n",
       "      <td>4.700000e+01</td>\n",
       "      <td>47.0</td>\n",
       "      <td>47.000000</td>\n",
       "    </tr>\n",
       "    <tr>\n",
       "      <th>mean</th>\n",
       "      <td>1.175481e+06</td>\n",
       "      <td>0.0</td>\n",
       "      <td>13.297872</td>\n",
       "    </tr>\n",
       "    <tr>\n",
       "      <th>std</th>\n",
       "      <td>3.229574e+04</td>\n",
       "      <td>0.0</td>\n",
       "      <td>16.734389</td>\n",
       "    </tr>\n",
       "    <tr>\n",
       "      <th>min</th>\n",
       "      <td>1.136561e+06</td>\n",
       "      <td>0.0</td>\n",
       "      <td>1.000000</td>\n",
       "    </tr>\n",
       "    <tr>\n",
       "      <th>25%</th>\n",
       "      <td>1.136609e+06</td>\n",
       "      <td>0.0</td>\n",
       "      <td>5.000000</td>\n",
       "    </tr>\n",
       "    <tr>\n",
       "      <th>50%</th>\n",
       "      <td>1.178404e+06</td>\n",
       "      <td>0.0</td>\n",
       "      <td>7.000000</td>\n",
       "    </tr>\n",
       "    <tr>\n",
       "      <th>75%</th>\n",
       "      <td>1.216498e+06</td>\n",
       "      <td>0.0</td>\n",
       "      <td>10.000000</td>\n",
       "    </tr>\n",
       "    <tr>\n",
       "      <th>max</th>\n",
       "      <td>1.216544e+06</td>\n",
       "      <td>0.0</td>\n",
       "      <td>80.000000</td>\n",
       "    </tr>\n",
       "  </tbody>\n",
       "</table>\n",
       "</div>"
      ],
      "text/plain": [
       "                 id  neutral_venue  result_margin\n",
       "count  4.700000e+01           47.0      47.000000\n",
       "mean   1.175481e+06            0.0      13.297872\n",
       "std    3.229574e+04            0.0      16.734389\n",
       "min    1.136561e+06            0.0       1.000000\n",
       "25%    1.136609e+06            0.0       5.000000\n",
       "50%    1.178404e+06            0.0       7.000000\n",
       "75%    1.216498e+06            0.0      10.000000\n",
       "max    1.216544e+06            0.0      80.000000"
      ]
     },
     "execution_count": 33,
     "metadata": {},
     "output_type": "execute_result"
    }
   ],
   "source": [
    "#create a dataframe consisting of matches played by CSK\n",
    "d1 = match[match.team2 == 'Chennai Super Kings']\n",
    "d2 = match[match.team1 == 'Chennai Super Kings']\n",
    "dx = pd.concat([d1, d2])\n",
    "dx.describe()"
   ]
  },
  {
   "cell_type": "code",
   "execution_count": 34,
   "metadata": {
    "id": "sGhrv7XVbzre"
   },
   "outputs": [
    {
     "data": {
      "text/html": [
       "<div>\n",
       "<style scoped>\n",
       "    .dataframe tbody tr th:only-of-type {\n",
       "        vertical-align: middle;\n",
       "    }\n",
       "\n",
       "    .dataframe tbody tr th {\n",
       "        vertical-align: top;\n",
       "    }\n",
       "\n",
       "    .dataframe thead th {\n",
       "        text-align: right;\n",
       "    }\n",
       "</style>\n",
       "<table border=\"1\" class=\"dataframe\">\n",
       "  <thead>\n",
       "    <tr style=\"text-align: right;\">\n",
       "      <th></th>\n",
       "      <th>id</th>\n",
       "      <th>city</th>\n",
       "      <th>date</th>\n",
       "      <th>player_of_match</th>\n",
       "      <th>venue</th>\n",
       "      <th>neutral_venue</th>\n",
       "      <th>team1</th>\n",
       "      <th>team2</th>\n",
       "      <th>toss_winner</th>\n",
       "      <th>toss_decision</th>\n",
       "      <th>winner</th>\n",
       "      <th>result</th>\n",
       "      <th>result_margin</th>\n",
       "      <th>eliminator</th>\n",
       "      <th>method</th>\n",
       "      <th>umpire1</th>\n",
       "      <th>umpire2</th>\n",
       "      <th>MatchResult</th>\n",
       "    </tr>\n",
       "  </thead>\n",
       "  <tbody>\n",
       "    <tr>\n",
       "      <th>636</th>\n",
       "      <td>1136561</td>\n",
       "      <td>Mumbai</td>\n",
       "      <td>2018-07-04</td>\n",
       "      <td>DJ Bravo</td>\n",
       "      <td>Wankhede Stadium</td>\n",
       "      <td>0</td>\n",
       "      <td>Mumbai Indians</td>\n",
       "      <td>Chennai Super Kings</td>\n",
       "      <td>Chennai Super Kings</td>\n",
       "      <td>field</td>\n",
       "      <td>Chennai Super Kings</td>\n",
       "      <td>wickets</td>\n",
       "      <td>1.0</td>\n",
       "      <td>N</td>\n",
       "      <td>NaN</td>\n",
       "      <td>CB Gaffaney</td>\n",
       "      <td>A Nand Kishore</td>\n",
       "      <td>Won</td>\n",
       "    </tr>\n",
       "    <tr>\n",
       "      <th>647</th>\n",
       "      <td>1136572</td>\n",
       "      <td>Chandigarh</td>\n",
       "      <td>2018-04-15</td>\n",
       "      <td>CH Gayle</td>\n",
       "      <td>Punjab Cricket Association IS Bindra Stadium, ...</td>\n",
       "      <td>0</td>\n",
       "      <td>Kings XI Punjab</td>\n",
       "      <td>Chennai Super Kings</td>\n",
       "      <td>Chennai Super Kings</td>\n",
       "      <td>field</td>\n",
       "      <td>Kings XI Punjab</td>\n",
       "      <td>runs</td>\n",
       "      <td>4.0</td>\n",
       "      <td>N</td>\n",
       "      <td>NaN</td>\n",
       "      <td>VA Kulkarni</td>\n",
       "      <td>CK Nandan</td>\n",
       "      <td>Lost</td>\n",
       "    </tr>\n",
       "    <tr>\n",
       "      <th>655</th>\n",
       "      <td>1136580</td>\n",
       "      <td>Hyderabad</td>\n",
       "      <td>2018-04-22</td>\n",
       "      <td>AT Rayudu</td>\n",
       "      <td>Rajiv Gandhi International Stadium, Uppal</td>\n",
       "      <td>0</td>\n",
       "      <td>Sunrisers Hyderabad</td>\n",
       "      <td>Chennai Super Kings</td>\n",
       "      <td>Sunrisers Hyderabad</td>\n",
       "      <td>field</td>\n",
       "      <td>Chennai Super Kings</td>\n",
       "      <td>runs</td>\n",
       "      <td>4.0</td>\n",
       "      <td>N</td>\n",
       "      <td>NaN</td>\n",
       "      <td>VA Kulkarni</td>\n",
       "      <td>AK Chaudhary</td>\n",
       "      <td>Won</td>\n",
       "    </tr>\n",
       "    <tr>\n",
       "      <th>659</th>\n",
       "      <td>1136584</td>\n",
       "      <td>Bengaluru</td>\n",
       "      <td>2018-04-25</td>\n",
       "      <td>MS Dhoni</td>\n",
       "      <td>M.Chinnaswamy Stadium</td>\n",
       "      <td>0</td>\n",
       "      <td>Royal Challengers Bangalore</td>\n",
       "      <td>Chennai Super Kings</td>\n",
       "      <td>Chennai Super Kings</td>\n",
       "      <td>field</td>\n",
       "      <td>Chennai Super Kings</td>\n",
       "      <td>wickets</td>\n",
       "      <td>5.0</td>\n",
       "      <td>N</td>\n",
       "      <td>NaN</td>\n",
       "      <td>NJ Llong</td>\n",
       "      <td>VK Sharma</td>\n",
       "      <td>Won</td>\n",
       "    </tr>\n",
       "    <tr>\n",
       "      <th>668</th>\n",
       "      <td>1136593</td>\n",
       "      <td>Kolkata</td>\n",
       "      <td>2018-03-05</td>\n",
       "      <td>SP Narine</td>\n",
       "      <td>Eden Gardens</td>\n",
       "      <td>0</td>\n",
       "      <td>Kolkata Knight Riders</td>\n",
       "      <td>Chennai Super Kings</td>\n",
       "      <td>Kolkata Knight Riders</td>\n",
       "      <td>field</td>\n",
       "      <td>Kolkata Knight Riders</td>\n",
       "      <td>wickets</td>\n",
       "      <td>6.0</td>\n",
       "      <td>N</td>\n",
       "      <td>NaN</td>\n",
       "      <td>HDPK Dharmasena</td>\n",
       "      <td>A Deshmukh</td>\n",
       "      <td>Lost</td>\n",
       "    </tr>\n",
       "  </tbody>\n",
       "</table>\n",
       "</div>"
      ],
      "text/plain": [
       "          id        city       date player_of_match  \\\n",
       "636  1136561      Mumbai 2018-07-04        DJ Bravo   \n",
       "647  1136572  Chandigarh 2018-04-15        CH Gayle   \n",
       "655  1136580   Hyderabad 2018-04-22       AT Rayudu   \n",
       "659  1136584   Bengaluru 2018-04-25        MS Dhoni   \n",
       "668  1136593     Kolkata 2018-03-05       SP Narine   \n",
       "\n",
       "                                                 venue  neutral_venue  \\\n",
       "636                                   Wankhede Stadium              0   \n",
       "647  Punjab Cricket Association IS Bindra Stadium, ...              0   \n",
       "655          Rajiv Gandhi International Stadium, Uppal              0   \n",
       "659                              M.Chinnaswamy Stadium              0   \n",
       "668                                       Eden Gardens              0   \n",
       "\n",
       "                           team1                team2            toss_winner  \\\n",
       "636               Mumbai Indians  Chennai Super Kings    Chennai Super Kings   \n",
       "647              Kings XI Punjab  Chennai Super Kings    Chennai Super Kings   \n",
       "655          Sunrisers Hyderabad  Chennai Super Kings    Sunrisers Hyderabad   \n",
       "659  Royal Challengers Bangalore  Chennai Super Kings    Chennai Super Kings   \n",
       "668        Kolkata Knight Riders  Chennai Super Kings  Kolkata Knight Riders   \n",
       "\n",
       "    toss_decision                 winner   result  result_margin eliminator  \\\n",
       "636         field    Chennai Super Kings  wickets            1.0          N   \n",
       "647         field        Kings XI Punjab     runs            4.0          N   \n",
       "655         field    Chennai Super Kings     runs            4.0          N   \n",
       "659         field    Chennai Super Kings  wickets            5.0          N   \n",
       "668         field  Kolkata Knight Riders  wickets            6.0          N   \n",
       "\n",
       "    method          umpire1         umpire2 MatchResult  \n",
       "636    NaN      CB Gaffaney  A Nand Kishore         Won  \n",
       "647    NaN      VA Kulkarni       CK Nandan        Lost  \n",
       "655    NaN      VA Kulkarni    AK Chaudhary         Won  \n",
       "659    NaN         NJ Llong       VK Sharma         Won  \n",
       "668    NaN  HDPK Dharmasena      A Deshmukh        Lost  "
      ]
     },
     "execution_count": 34,
     "metadata": {},
     "output_type": "execute_result"
    }
   ],
   "source": [
    "#create a new column which shows the result of the match\n",
    "dx.loc[dx['winner'] == 'Chennai Super Kings', 'MatchResult'] = \"Won\"\n",
    "dx.loc[dx['winner'] != 'Chennai Super Kings', 'MatchResult'] = \"Lost\"\n",
    "dx.head()"
   ]
  },
  {
   "cell_type": "code",
   "execution_count": 35,
   "metadata": {
    "id": "vGGoEH9gAEiR"
   },
   "outputs": [
    {
     "data": {
      "text/html": [
       "<div>\n",
       "<style scoped>\n",
       "    .dataframe tbody tr th:only-of-type {\n",
       "        vertical-align: middle;\n",
       "    }\n",
       "\n",
       "    .dataframe tbody tr th {\n",
       "        vertical-align: top;\n",
       "    }\n",
       "\n",
       "    .dataframe thead th {\n",
       "        text-align: right;\n",
       "    }\n",
       "</style>\n",
       "<table border=\"1\" class=\"dataframe\">\n",
       "  <thead>\n",
       "    <tr style=\"text-align: right;\">\n",
       "      <th></th>\n",
       "      <th>id</th>\n",
       "      <th>city</th>\n",
       "      <th>date</th>\n",
       "      <th>player_of_match</th>\n",
       "      <th>venue</th>\n",
       "      <th>neutral_venue</th>\n",
       "      <th>team1</th>\n",
       "      <th>team2</th>\n",
       "      <th>toss_winner</th>\n",
       "      <th>toss_decision</th>\n",
       "      <th>winner</th>\n",
       "      <th>result</th>\n",
       "      <th>result_margin</th>\n",
       "      <th>eliminator</th>\n",
       "      <th>method</th>\n",
       "      <th>umpire1</th>\n",
       "      <th>umpire2</th>\n",
       "      <th>MatchResult</th>\n",
       "      <th>1st</th>\n",
       "    </tr>\n",
       "  </thead>\n",
       "  <tbody>\n",
       "    <tr>\n",
       "      <th>636</th>\n",
       "      <td>1136561</td>\n",
       "      <td>Mumbai</td>\n",
       "      <td>2018-07-04</td>\n",
       "      <td>DJ Bravo</td>\n",
       "      <td>Wankhede Stadium</td>\n",
       "      <td>0</td>\n",
       "      <td>Mumbai Indians</td>\n",
       "      <td>Chennai Super Kings</td>\n",
       "      <td>Chennai Super Kings</td>\n",
       "      <td>field</td>\n",
       "      <td>Chennai Super Kings</td>\n",
       "      <td>wickets</td>\n",
       "      <td>1.0</td>\n",
       "      <td>N</td>\n",
       "      <td>NaN</td>\n",
       "      <td>CB Gaffaney</td>\n",
       "      <td>A Nand Kishore</td>\n",
       "      <td>Won</td>\n",
       "      <td>fielding</td>\n",
       "    </tr>\n",
       "    <tr>\n",
       "      <th>647</th>\n",
       "      <td>1136572</td>\n",
       "      <td>Chandigarh</td>\n",
       "      <td>2018-04-15</td>\n",
       "      <td>CH Gayle</td>\n",
       "      <td>Punjab Cricket Association IS Bindra Stadium, ...</td>\n",
       "      <td>0</td>\n",
       "      <td>Kings XI Punjab</td>\n",
       "      <td>Chennai Super Kings</td>\n",
       "      <td>Chennai Super Kings</td>\n",
       "      <td>field</td>\n",
       "      <td>Kings XI Punjab</td>\n",
       "      <td>runs</td>\n",
       "      <td>4.0</td>\n",
       "      <td>N</td>\n",
       "      <td>NaN</td>\n",
       "      <td>VA Kulkarni</td>\n",
       "      <td>CK Nandan</td>\n",
       "      <td>Lost</td>\n",
       "      <td>fielding</td>\n",
       "    </tr>\n",
       "    <tr>\n",
       "      <th>655</th>\n",
       "      <td>1136580</td>\n",
       "      <td>Hyderabad</td>\n",
       "      <td>2018-04-22</td>\n",
       "      <td>AT Rayudu</td>\n",
       "      <td>Rajiv Gandhi International Stadium, Uppal</td>\n",
       "      <td>0</td>\n",
       "      <td>Sunrisers Hyderabad</td>\n",
       "      <td>Chennai Super Kings</td>\n",
       "      <td>Sunrisers Hyderabad</td>\n",
       "      <td>field</td>\n",
       "      <td>Chennai Super Kings</td>\n",
       "      <td>runs</td>\n",
       "      <td>4.0</td>\n",
       "      <td>N</td>\n",
       "      <td>NaN</td>\n",
       "      <td>VA Kulkarni</td>\n",
       "      <td>AK Chaudhary</td>\n",
       "      <td>Won</td>\n",
       "      <td>batting</td>\n",
       "    </tr>\n",
       "    <tr>\n",
       "      <th>659</th>\n",
       "      <td>1136584</td>\n",
       "      <td>Bengaluru</td>\n",
       "      <td>2018-04-25</td>\n",
       "      <td>MS Dhoni</td>\n",
       "      <td>M.Chinnaswamy Stadium</td>\n",
       "      <td>0</td>\n",
       "      <td>Royal Challengers Bangalore</td>\n",
       "      <td>Chennai Super Kings</td>\n",
       "      <td>Chennai Super Kings</td>\n",
       "      <td>field</td>\n",
       "      <td>Chennai Super Kings</td>\n",
       "      <td>wickets</td>\n",
       "      <td>5.0</td>\n",
       "      <td>N</td>\n",
       "      <td>NaN</td>\n",
       "      <td>NJ Llong</td>\n",
       "      <td>VK Sharma</td>\n",
       "      <td>Won</td>\n",
       "      <td>fielding</td>\n",
       "    </tr>\n",
       "    <tr>\n",
       "      <th>668</th>\n",
       "      <td>1136593</td>\n",
       "      <td>Kolkata</td>\n",
       "      <td>2018-03-05</td>\n",
       "      <td>SP Narine</td>\n",
       "      <td>Eden Gardens</td>\n",
       "      <td>0</td>\n",
       "      <td>Kolkata Knight Riders</td>\n",
       "      <td>Chennai Super Kings</td>\n",
       "      <td>Kolkata Knight Riders</td>\n",
       "      <td>field</td>\n",
       "      <td>Kolkata Knight Riders</td>\n",
       "      <td>wickets</td>\n",
       "      <td>6.0</td>\n",
       "      <td>N</td>\n",
       "      <td>NaN</td>\n",
       "      <td>HDPK Dharmasena</td>\n",
       "      <td>A Deshmukh</td>\n",
       "      <td>Lost</td>\n",
       "      <td>batting</td>\n",
       "    </tr>\n",
       "  </tbody>\n",
       "</table>\n",
       "</div>"
      ],
      "text/plain": [
       "          id        city       date player_of_match  \\\n",
       "636  1136561      Mumbai 2018-07-04        DJ Bravo   \n",
       "647  1136572  Chandigarh 2018-04-15        CH Gayle   \n",
       "655  1136580   Hyderabad 2018-04-22       AT Rayudu   \n",
       "659  1136584   Bengaluru 2018-04-25        MS Dhoni   \n",
       "668  1136593     Kolkata 2018-03-05       SP Narine   \n",
       "\n",
       "                                                 venue  neutral_venue  \\\n",
       "636                                   Wankhede Stadium              0   \n",
       "647  Punjab Cricket Association IS Bindra Stadium, ...              0   \n",
       "655          Rajiv Gandhi International Stadium, Uppal              0   \n",
       "659                              M.Chinnaswamy Stadium              0   \n",
       "668                                       Eden Gardens              0   \n",
       "\n",
       "                           team1                team2            toss_winner  \\\n",
       "636               Mumbai Indians  Chennai Super Kings    Chennai Super Kings   \n",
       "647              Kings XI Punjab  Chennai Super Kings    Chennai Super Kings   \n",
       "655          Sunrisers Hyderabad  Chennai Super Kings    Sunrisers Hyderabad   \n",
       "659  Royal Challengers Bangalore  Chennai Super Kings    Chennai Super Kings   \n",
       "668        Kolkata Knight Riders  Chennai Super Kings  Kolkata Knight Riders   \n",
       "\n",
       "    toss_decision                 winner   result  result_margin eliminator  \\\n",
       "636         field    Chennai Super Kings  wickets            1.0          N   \n",
       "647         field        Kings XI Punjab     runs            4.0          N   \n",
       "655         field    Chennai Super Kings     runs            4.0          N   \n",
       "659         field    Chennai Super Kings  wickets            5.0          N   \n",
       "668         field  Kolkata Knight Riders  wickets            6.0          N   \n",
       "\n",
       "    method          umpire1         umpire2 MatchResult       1st  \n",
       "636    NaN      CB Gaffaney  A Nand Kishore         Won  fielding  \n",
       "647    NaN      VA Kulkarni       CK Nandan        Lost  fielding  \n",
       "655    NaN      VA Kulkarni    AK Chaudhary         Won   batting  \n",
       "659    NaN         NJ Llong       VK Sharma         Won  fielding  \n",
       "668    NaN  HDPK Dharmasena      A Deshmukh        Lost   batting  "
      ]
     },
     "execution_count": 35,
     "metadata": {},
     "output_type": "execute_result"
    }
   ],
   "source": [
    "#create a new column which shows what CSK did first i.e., batting or fielding\n",
    "dx.loc[(dx['toss_winner'] == 'Chennai Super Kings') & (dx[\"toss_decision\"] == 'field'), '1st'] = \"fielding\"\n",
    "dx.loc[(dx['toss_winner'] == 'Chennai Super Kings') & (dx[\"toss_decision\"] == 'bat'), '1st'] = \"batting\"\n",
    "dx.loc[(dx['toss_winner'] != 'Chennai Super Kings') & (dx[\"toss_decision\"] == 'field'), '1st'] = \"batting\"\n",
    "dx.loc[(dx['toss_winner'] != 'Chennai Super Kings') & (dx[\"toss_decision\"] == 'bat'), '1st'] = \"fielding\"\n",
    "dx.head()"
   ]
  },
  {
   "cell_type": "code",
   "execution_count": 36,
   "metadata": {
    "id": "ftRqYXtRAD3f"
   },
   "outputs": [
    {
     "data": {
      "text/html": [
       "<div>\n",
       "<style scoped>\n",
       "    .dataframe tbody tr th:only-of-type {\n",
       "        vertical-align: middle;\n",
       "    }\n",
       "\n",
       "    .dataframe tbody tr th {\n",
       "        vertical-align: top;\n",
       "    }\n",
       "\n",
       "    .dataframe thead th {\n",
       "        text-align: right;\n",
       "    }\n",
       "</style>\n",
       "<table border=\"1\" class=\"dataframe\">\n",
       "  <thead>\n",
       "    <tr style=\"text-align: right;\">\n",
       "      <th>MatchResult</th>\n",
       "      <th>Lost</th>\n",
       "      <th>Won</th>\n",
       "    </tr>\n",
       "    <tr>\n",
       "      <th>1st</th>\n",
       "      <th></th>\n",
       "      <th></th>\n",
       "    </tr>\n",
       "  </thead>\n",
       "  <tbody>\n",
       "    <tr>\n",
       "      <th>batting</th>\n",
       "      <td>9</td>\n",
       "      <td>7</td>\n",
       "    </tr>\n",
       "    <tr>\n",
       "      <th>fielding</th>\n",
       "      <td>11</td>\n",
       "      <td>20</td>\n",
       "    </tr>\n",
       "  </tbody>\n",
       "</table>\n",
       "</div>"
      ],
      "text/plain": [
       "MatchResult  Lost  Won\n",
       "1st                   \n",
       "batting         9    7\n",
       "fielding       11   20"
      ]
     },
     "execution_count": 36,
     "metadata": {},
     "output_type": "execute_result"
    }
   ],
   "source": [
    "#create a dataframe consisting of the 2 categorical variables that are to be tested\n",
    "dy = dx.pivot_table(index='1st', columns='MatchResult', aggfunc='size', fill_value=0)\n",
    "dy"
   ]
  },
  {
   "cell_type": "markdown",
   "metadata": {
    "id": "Z9p1RzMNb8wf"
   },
   "source": [
    "We formulate the null and alternate hypotheses as below,\n",
    "\n",
    "H0: The result of the match is independent on 1st batting or fielding\n",
    "\n",
    "Ha: The result of the match is dependent on 1st batting or fielding\n",
    "\n",
    "We chose the 5% significance level for our analysis i.e., α = 0.05. Each non-parametric test has its own specific assumptions. The assumptions of the Chi-square are as below\n",
    "\n",
    "The data in the cells should be frequencies, or counts of cases rather than percentages or some other transformation of the data.\n",
    "The categorical variables that are being tested are mutually exclusive.\n",
    "There are 2 variables, and both are measured as categories, usually at the nominal level.\n",
    "The value of the cell expecteds should be 5 or more in at least 80% of the cells, and no cell should have an expected of less than one.\n",
    "Our data is in accordance with this assumptions."
   ]
  },
  {
   "cell_type": "code",
   "execution_count": 37,
   "metadata": {
    "colab": {
     "base_uri": "https://localhost:8080/",
     "height": 380
    },
    "id": "S4_0qI3Qc0WC",
    "outputId": "aabbbd47-6b8a-42d1-dd29-e140e980c9d0"
   },
   "outputs": [
    {
     "name": "stdout",
     "output_type": "stream",
     "text": [
      "1.1090641801075274 0.29228546548845175\n"
     ]
    }
   ],
   "source": [
    "from scipy.stats import chi2_contingency\n",
    "stat, p, dof, expected = chi2_contingency(dy)\n",
    "print(stat, p)"
   ]
  },
  {
   "cell_type": "code",
   "execution_count": null,
   "metadata": {
    "id": "mOAlpZKPxywI"
   },
   "outputs": [],
   "source": []
  },
  {
   "cell_type": "code",
   "execution_count": null,
   "metadata": {},
   "outputs": [],
   "source": []
  }
 ],
 "metadata": {
  "colab": {
   "name": "ipl analysis.ipynb",
   "provenance": []
  },
  "kernelspec": {
   "display_name": "Python 3",
   "language": "python",
   "name": "python3"
  },
  "language_info": {
   "codemirror_mode": {
    "name": "ipython",
    "version": 3
   },
   "file_extension": ".py",
   "mimetype": "text/x-python",
   "name": "python",
   "nbconvert_exporter": "python",
   "pygments_lexer": "ipython3",
   "version": "3.8.8"
  }
 },
 "nbformat": 4,
 "nbformat_minor": 1
}
